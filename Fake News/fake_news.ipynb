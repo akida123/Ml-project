{
 "cells": [
  {
   "cell_type": "code",
   "execution_count": null,
   "metadata": {},
   "outputs": [],
   "source": []
  },
  {
   "cell_type": "code",
   "execution_count": 4,
   "metadata": {},
   "outputs": [],
   "source": [
    "from sklearn import datasets\n",
    "from sklearn import svm\n",
    "import pandas as pd\n",
    "from numpy import genfromtxt\n",
    "# Stemming purposes\n",
    "from nltk.stem import PorterStemmer\n",
    "from nltk.stem.snowball import SnowballStemmer\n",
    "from nltk.tokenize import sent_tokenize, word_tokenize\n",
    "\n",
    "# Splitting Dataset\n",
    "from sklearn.model_selection import train_test_split\n",
    "from sklearn.feature_extraction.text import TfidfVectorizer, CountVectorizer\n",
    "\n",
    "from sklearn import metrics\n",
    "import numpy as np\n",
    "import itertools\n",
    "#Helper\n",
    "\n",
    "import matplotlib.pyplot as plt\n",
    "\n",
    "\n",
    "#PLOT Matrix\n",
    "\n",
    "def plot_confusion_matrix(cm, classes,\n",
    "                          normalize=False,\n",
    "                          title='Confusion matrix',\n",
    "                          cmap=plt.cm.Blues):\n",
    "    \"\"\"\n",
    "    See full source and example: \n",
    "    http://scikit-learn.org/stable/auto_examples/model_selection/plot_confusion_matrix.html\n",
    "    \n",
    "    This function prints and plots the confusion matrix.\n",
    "    Normalization can be applied by setting `normalize=True`.\n",
    "    \"\"\"\n",
    "    plt.imshow(cm, interpolation='nearest', cmap=cmap)\n",
    "    plt.title(title)\n",
    "    plt.colorbar()\n",
    "    tick_marks = np.arange(len(classes))\n",
    "    plt.xticks(tick_marks, classes, rotation=45)\n",
    "    plt.yticks(tick_marks, classes)\n",
    "\n",
    "    if normalize:\n",
    "        cm = cm.astype('float') / cm.sum(axis=1)[:, np.newaxis]\n",
    "        print(\"Normalized confusion matrix\")\n",
    "    else:\n",
    "        print('')\n",
    "#         print('Confusion matrix, with little normalization')\n",
    "\n",
    "    thresh = cm.max() / 2.\n",
    "    for i, j in itertools.product(range(cm.shape[0]), range(cm.shape[1])):\n",
    "        plt.text(j, i, cm[i, j],\n",
    "                 horizontalalignment=\"center\",\n",
    "                 color=\"white\" if cm[i, j] > thresh else \"black\")\n",
    "\n",
    "    plt.tight_layout()\n",
    "    plt.ylabel('True label')\n",
    "    plt.xlabel('Predicted label')\n",
    "    plt.show()"
   ]
  },
  {
   "cell_type": "markdown",
   "metadata": {},
   "source": [
    "# <center>  Dataset Parse </center>"
   ]
  },
  {
   "cell_type": "code",
   "execution_count": 5,
   "metadata": {},
   "outputs": [],
   "source": [
    "\n",
    "data_set = pd.read_csv(\"fake_or_real_news.csv\")\n",
    "    \n",
    "# # Inspect shape of `df` \n",
    "# print(df.shape)\n",
    "\n",
    "# # Print first lines of `df` \n",
    "# print(df.head())\n",
    "# df = df.set_index(\"Unnamed: 0\") \n",
    "# df.head()\n",
    "# print(df.label)\n",
    "# def loadDataset():\n",
    "#     iris = datasets.load_iris()\n",
    "# #     print(iris.target)\n",
    "#     return iris.data, iris.target"
   ]
  },
  {
   "cell_type": "markdown",
   "metadata": {},
   "source": [
    "# <center> Stemming Approach </center>"
   ]
  },
  {
   "cell_type": "code",
   "execution_count": 8,
   "metadata": {},
   "outputs": [],
   "source": [
    "stemmer = SnowballStemmer(\"english\", ignore_stopwords=True)\n",
    "def stemmer_function(text):\n",
    "    words = word_tokenize(text)\n",
    "    ret = \"\";\n",
    "    for w in words:\n",
    "        ret = ret + \" \" + stemmer.stem(w)\n",
    "    return ret\n",
    "# print(stemmer_function(\"I’m not an immigrant, but my grandparents are. More than\"))"
   ]
  },
  {
   "cell_type": "markdown",
   "metadata": {},
   "source": [
    "# <center> Stemming Text </center>"
   ]
  },
  {
   "cell_type": "code",
   "execution_count": 10,
   "metadata": {
    "scrolled": true
   },
   "outputs": [
    {
     "name": "stdout",
     "output_type": "stream",
     "text": [
      "#Pre Processed 500 of 6335 7.892659826361484%\n",
      "#Pre Processed 1000 of 6335 15.785319652722968%\n",
      "#Pre Processed 1500 of 6335 23.677979479084453%\n",
      "#Pre Processed 2000 of 6335 31.570639305445937%\n",
      "#Pre Processed 2500 of 6335 39.46329913180742%\n",
      "#Pre Processed 3000 of 6335 47.355958958168905%\n",
      "#Pre Processed 3500 of 6335 55.24861878453039%\n",
      "#Pre Processed 4000 of 6335 63.141278610891874%\n",
      "#Pre Processed 4500 of 6335 71.03393843725335%\n",
      "#Pre Processed 5000 of 6335 78.92659826361484%\n",
      "#Pre Processed 5500 of 6335 86.81925808997633%\n",
      "#Pre Processed 6000 of 6335 94.71191791633781%\n"
     ]
    }
   ],
   "source": [
    "news = data_set['text']\n",
    "y = data_set.label \n",
    "index_array = y.index.values\n",
    "verdict = []\n",
    "stemmed_news = []\n",
    "counter = 0\n",
    "for index in index_array:\n",
    "    val = y.at[index]\n",
    "    verdict.append(val)\n",
    "    n = stemmer_function(news.at[index])\n",
    "    stemmed_news.append(n)\n",
    "    counter += 1\n",
    "    if counter % 500 == 0:\n",
    "        print('#Pre Processed', counter , \"of\", len(news), str(counter*1./len(news)*100.0) + '%')\n",
    "#     if(counter > 1000):\n",
    "#         break\n",
    "\n",
    "# for i in range(min(len(news) , 25)):\n",
    "#     print(i , stemmed_news[i][0:60], '----->', verdict[i])\n",
    "\n",
    "# print('OK')"
   ]
  },
  {
   "cell_type": "markdown",
   "metadata": {},
   "source": [
    "# <center>  Splitting Dataset </center>"
   ]
  },
  {
   "cell_type": "code",
   "execution_count": 11,
   "metadata": {},
   "outputs": [
    {
     "name": "stdout",
     "output_type": "stream",
     "text": [
      "Dataset Splitted.\n"
     ]
    }
   ],
   "source": [
    "X_train, X_test, y_train, y_test = train_test_split(stemmed_news, verdict, test_size=0.4, random_state=53)\n",
    "print(\"Dataset Splitted.\")"
   ]
  },
  {
   "cell_type": "markdown",
   "metadata": {},
   "source": [
    "# <center>  Applying TF-IDF </center>"
   ]
  },
  {
   "cell_type": "code",
   "execution_count": 12,
   "metadata": {},
   "outputs": [
    {
     "name": "stdout",
     "output_type": "stream",
     "text": [
      "TF-IDF Training Started\n",
      "->->->\n",
      "TF-IDF Training Ended\n"
     ]
    }
   ],
   "source": [
    "count_vectorizer = CountVectorizer(stop_words='english')\n",
    "count_train = count_vectorizer.fit_transform(X_train) \n",
    "count_test = count_vectorizer.transform(X_test)\n",
    "\n",
    "tfidf_vectorizer = TfidfVectorizer(stop_words='english', max_df=0.7) \n",
    "tfidf_train = tfidf_vectorizer.fit_transform(X_train) \n",
    "tfidf_test = tfidf_vectorizer.transform(X_test)\n",
    "\n",
    "print(\"TF-IDF Training Started\\n->->->\")\n",
    "# print(tfidf_train)\n",
    "print(\"TF-IDF Training Ended\")"
   ]
  },
  {
   "cell_type": "markdown",
   "metadata": {},
   "source": [
    "# <center>  Feature Extract </center>"
   ]
  },
  {
   "cell_type": "code",
   "execution_count": 13,
   "metadata": {},
   "outputs": [
    {
     "name": "stdout",
     "output_type": "stream",
     "text": [
      "Sample features names\n",
      " ['7d', '7million', '7th', '801', '807', '812', '81p', '826', '837', '844', '847', '8559', '86362001', '86b', '873', '88', '886', '8922', '8981', '8cft9hd0ri'] \n",
      "\n",
      "7d  ---->  1500\n",
      "7million  ---->  1505\n",
      "7th  ---->  1510\n",
      "801  ---->  1515\n",
      "807  ---->  1520\n",
      "812  ---->  1525\n",
      "81p  ---->  1530\n",
      "826  ---->  1535\n",
      "837  ---->  1540\n",
      "844  ---->  1545\n",
      "847  ---->  1550\n",
      "8559  ---->  1555\n",
      "86362001  ---->  1560\n",
      "86b  ---->  1565\n",
      "873  ---->  1570\n",
      "88  ---->  1575\n",
      "886  ---->  1580\n",
      "8922  ---->  1585\n",
      "8981  ---->  1590\n",
      "8cft9hd0ri  ---->  1595\n"
     ]
    }
   ],
   "source": [
    "print('Sample features names\\n',tfidf_vectorizer.get_feature_names()[1500:1600:5], '\\n')\n",
    "# print(count_vectorizer.get_feature_names()[900:910])\n",
    "\n",
    "feature_arr = tfidf_vectorizer.get_feature_names()\n",
    "\n",
    "for i in range(1500, 1600, 5):\n",
    "    val = tfidf_vectorizer.vocabulary_[feature_arr[i]]\n",
    "    print(feature_arr[i] , \" ----> \" , val)\n",
    "# print(tfidf_vectorizer)"
   ]
  },
  {
   "cell_type": "code",
   "execution_count": 96,
   "metadata": {},
   "outputs": [],
   "source": [
    "tfidf_df = pd.DataFrame(tfidf_train.A, columns=tfidf_vectorizer.get_feature_names())\n",
    "# print(tfidf_df.tail())"
   ]
  },
  {
   "cell_type": "markdown",
   "metadata": {},
   "source": [
    "# <center> Random Forest Classifier </center>"
   ]
  },
  {
   "cell_type": "code",
   "execution_count": 14,
   "metadata": {},
   "outputs": [
    {
     "name": "stdout",
     "output_type": "stream",
     "text": [
      "Accuracy:   87.10%\n",
      "\n"
     ]
    },
    {
     "data": {
      "image/png": "[encoded data removed]",
      "text/plain": [
       "<Figure size 432x288 with 2 Axes>"
      ]
     },
     "metadata": {},
     "output_type": "display_data"
    }
   ],
   "source": [
    "from sklearn.ensemble import RandomForestClassifier\n",
    "\n",
    "clf_rand = RandomForestClassifier(n_estimators = 26 , criterion = 'entropy' , random_state = 0)\n",
    "\n",
    "clf_rand.fit(tfidf_train, y_train)\n",
    "\n",
    "pred_rand = clf_rand.predict(tfidf_test)\n",
    "\n",
    "score = metrics.accuracy_score(y_test, pred_rand)\n",
    "\n",
    "print(\"Accuracy:   %0.2f\" % (score*100.) + \"%\")\n",
    "cm = metrics.confusion_matrix(y_test, pred_rand, labels=['FAKE', 'REAL'])\n",
    "plot_confusion_matrix(cm, \n",
    "                      classes=['FAKE', 'REAL'], \n",
    "                      title=\"Confusion Matrix for \\nRandom Forest Classifier\",\n",
    "                      cmap = plt.cm.Greens\n",
    "                     )"
   ]
  },
  {
   "cell_type": "markdown",
   "metadata": {},
   "source": [
    "# <center> Naive Bayes </center>"
   ]
  },
  {
   "cell_type": "code",
   "execution_count": 15,
   "metadata": {},
   "outputs": [
    {
     "name": "stdout",
     "output_type": "stream",
     "text": [
      "Accuracy:   85.20%\n",
      "\n"
     ]
    },
    {
     "data": {
      "image/png": "[encoded data removed]",
      "text/plain": [
       "<Figure size 432x288 with 2 Axes>"
      ]
     },
     "metadata": {},
     "output_type": "display_data"
    }
   ],
   "source": [
    "from sklearn.naive_bayes import MultinomialNB\n",
    "import itertools\n",
    "\n",
    "naive_classifier = MultinomialNB()\n",
    "naive_classifier.fit(tfidf_train, y_train)\n",
    "pred_tree = naive_classifier.predict(tfidf_test)\n",
    "\n",
    "score = metrics.accuracy_score(y_test, pred_tree)\n",
    "print(\"Accuracy:   %0.2f\" % (score*100.) + \"%\")\n",
    "cm = metrics.confusion_matrix(y_test, pred_tree, labels=['FAKE', 'REAL'])\n",
    "plot_confusion_matrix(cm, \n",
    "                      classes=['FAKE', 'REAL'], \n",
    "                      title=\"Confusion Matrix for \\nNaive-Bayes Classifier\",\n",
    "                      cmap = plt.cm.Reds\n",
    "                     )"
   ]
  },
  {
   "cell_type": "markdown",
   "metadata": {},
   "source": [
    "# <center>  SVM Classifier </center>"
   ]
  },
  {
   "cell_type": "code",
   "execution_count": 16,
   "metadata": {},
   "outputs": [
    {
     "name": "stdout",
     "output_type": "stream",
     "text": [
      "Accuracy:   81.49%\n",
      "\n"
     ]
    },
    {
     "data": {
      "image/png": "[encoded data removed]",
      "text/plain": [
       "<Figure size 432x288 with 2 Axes>"
      ]
     },
     "metadata": {},
     "output_type": "display_data"
    }
   ],
   "source": [
    "from sklearn import svm\n",
    "\n",
    "clf_svm = svm.SVC(probability=True, C=1000)\n",
    "\n",
    "clf_svm.fit(tfidf_train, y_train)\n",
    "pred_svm = clf_svm.predict(tfidf_test)\n",
    "score = metrics.accuracy_score(y_test, pred_svm)\n",
    "print(\"Accuracy:   %0.2f\" % (score*100.) + \"%\")\n",
    "cm = metrics.confusion_matrix(y_test, pred_svm, labels=['FAKE', 'REAL'])\n",
    "plot_confusion_matrix(cm, \n",
    "                      classes=['FAKE', 'REAL'], \n",
    "                      title=\"Confusion Matrix for \\nNaive-Bayes Classifier\",\n",
    "                      cmap = plt.cm.Greys\n",
    "                     )"
   ]
  },
  {
   "cell_type": "code",
   "execution_count": null,
   "metadata": {},
   "outputs": [],
   "source": []
  }
 ],
 "metadata": {
  "kernelspec": {
   "display_name": "Python 3",
   "language": "python",
   "name": "python3"
  },
  "language_info": {
   "codemirror_mode": {
    "name": "ipython",
    "version": 3
   },
   "file_extension": ".py",
   "mimetype": "text/x-python",
   "name": "python",
   "nbconvert_exporter": "python",
   "pygments_lexer": "ipython3",
   "version": "3.5.2"
  }
 },
 "nbformat": 4,
 "nbformat_minor": 2
}
